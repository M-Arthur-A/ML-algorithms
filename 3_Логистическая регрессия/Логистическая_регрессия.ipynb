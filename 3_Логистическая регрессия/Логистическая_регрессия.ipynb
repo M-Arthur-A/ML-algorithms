{
 "cells": [
  {
   "cell_type": "code",
   "execution_count": 1,
   "metadata": {},
   "outputs": [],
   "source": [
    "import numpy as np\n",
    "import pandas as pd\n",
    "import matplotlib.pyplot as plt\n",
    "import seaborn as sns\n",
    "sns.set()"
   ]
  },
  {
   "cell_type": "code",
   "execution_count": 2,
   "metadata": {},
   "outputs": [],
   "source": [
    "X = np.array([[1, 1, 1, 1, 1, 1, 1, 1, 1, 1],\n",
    "              [1, 1, 2, 1, 3, 0, 5, 10, 1, 2],  # стаж\n",
    "              [500, 700, 750, 600, 1450,        # средняя стоимость занятия\n",
    "               800, 1500, 2000, 450, 1000],\n",
    "              [1, 1, 2, 1, 2, 1, 3, 3, 1, 2]], dtype = np.float64) # квалификация репетитора\n",
    "\n",
    "y = np.array([0, 0, 1, 0, 1, 0, 1, 0, 1, 1]) # подходит или нет репетитор"
   ]
  },
  {
   "cell_type": "code",
   "execution_count": 3,
   "metadata": {},
   "outputs": [],
   "source": [
    "def calc_std_feat(x):  # стандартизация\n",
    "    res = (x - x.mean()) / x.std()\n",
    "    return res"
   ]
  },
  {
   "cell_type": "code",
   "execution_count": 4,
   "metadata": {},
   "outputs": [
    {
     "data": {
      "text/plain": [
       "array([-0.97958969, -0.56713087, -0.46401617, -0.77336028,  0.97958969,\n",
       "       -0.36090146,  1.08270439,  2.11385144, -1.08270439,  0.05155735])"
      ]
     },
     "execution_count": 4,
     "metadata": {},
     "output_type": "execute_result"
    }
   ],
   "source": [
    "X_st = X.copy()\n",
    "X_st[2, :] = calc_std_feat(X[2, :])\n",
    "X_st[2, :]"
   ]
  },
  {
   "cell_type": "markdown",
   "metadata": {},
   "source": [
    "$$Logloss=-y \\ln(p) - (1-y)\\ln(1-p)$$"
   ]
  },
  {
   "cell_type": "code",
   "execution_count": 5,
   "metadata": {},
   "outputs": [],
   "source": [
    "def calc_logloss(y, y_pred):  # функция, которую требуется минимизировать\n",
    "    err = np.mean(- y * np.log(y_pred) - (1.0 - y) * np.log(1.0 - y_pred))\n",
    "    return err\n",
    "\n",
    "def sigmoid(z):\n",
    "    res = 1 / (1 + np.exp(-z))\n",
    "    return res\n",
    "\n",
    "def eval_LR_model(X, y, iterations, alpha=1e-4):  # логистическая регрессия\n",
    "    np.random.seed(42)\n",
    "    w = np.random.randn(X.shape[0])\n",
    "    n = X.shape[1]\n",
    "    for i in range(1, iterations + 1):\n",
    "        z = np.dot(w, X) # значения функции линейной регрессии\n",
    "        y_pred = sigmoid(z) # находим предсказанные вероятности\n",
    "        err = calc_logloss(y, y_pred) # считаем ошибку\n",
    "        w -= alpha * (1/n * np.dot((y_pred - y), X.T)) # корректируем веса\n",
    "        if i % (iterations / 10) == 0:\n",
    "            print(i, w, err)\n",
    "    return w"
   ]
  },
  {
   "cell_type": "code",
   "execution_count": 6,
   "metadata": {},
   "outputs": [
    {
     "name": "stdout",
     "output_type": "stream",
     "text": [
      "100 [ 0.25769171 -0.68297243  0.68841418  1.2405903 ] 0.5908596023453088\n",
      "200 [ 0.14805533 -0.69317972  0.77965488  1.21287192] 0.5687278067099053\n",
      "300 [ 0.06257746 -0.68605867  0.85181735  1.21283095] 0.5560473747533587\n",
      "400 [-0.00887935 -0.68415387  0.90713736  1.22443854] 0.5476800278385013\n",
      "500 [-0.0701621  -0.68661758  0.94984062  1.24404686] 0.541676599615156\n",
      "600 [-0.1239972  -0.69202069  0.98318257  1.26924759] 0.5369841864977791\n",
      "700 [-0.17239277 -0.69933957  1.00953865  1.29824779] 0.5330427663756572\n",
      "800 [-0.21681092 -0.7078635   1.03062761  1.32973537] 0.5295551503580799\n",
      "900 [-0.25830834 -0.71709934  1.04769231  1.36276535] 0.5263621224044183\n",
      "1000 [-0.29764618 -0.72670545  1.061634    1.39666497] 0.5233765331724747\n"
     ]
    }
   ],
   "source": [
    "w = eval_LR_model(X_st, y, iterations=1000, alpha=1e-2)"
   ]
  },
  {
   "cell_type": "markdown",
   "metadata": {},
   "source": [
    "# 1.\n",
    "Измените функцию calc_logloss так, чтобы нули по возможности не попадали в np.log (как вариант - np.clip).  "
   ]
  },
  {
   "cell_type": "code",
   "execution_count": 7,
   "metadata": {},
   "outputs": [],
   "source": [
    "def calc_logloss_notnull(y, y_pred):  # функция, которую требуется минимизировать\n",
    "    err = np.mean(- y * np.log(np.clip(y_pred, a_min=0.00001, a_max=1)) - \\\n",
    "                  (1.0 - y) * np.log(np.clip(1.0 - y_pred, a_min=0.00001, a_max=1)))\n",
    "    return err"
   ]
  },
  {
   "cell_type": "markdown",
   "metadata": {},
   "source": [
    "# 2. \n",
    "Подберите аргументы функции eval_LR_model для логистической регрессии таким образом, чтобы log loss был минимальным."
   ]
  },
  {
   "cell_type": "code",
   "execution_count": 8,
   "metadata": {},
   "outputs": [
    {
     "name": "stdout",
     "output_type": "stream",
     "text": [
      "1000 [-21.17001579  -2.35444098  -5.36349928  17.50302905] 0.17676283829556166\n",
      "2000 [-28.03095459  -2.90190816  -7.38003474  23.06547415] 0.14271158919878277\n",
      "3000 [-33.07846286  -3.34734572  -8.83735615  27.14094584] 0.12484276343943798\n",
      "4000 [-37.12004416  -3.7012811   -9.99857511  30.39112083] 0.11345529139446227\n",
      "5000 [-40.52898407  -3.99610252 -10.97704518  33.12073157] 0.10539154829052189\n",
      "6000 [-43.50613611  -4.24960791 -11.83259501  35.49390573] 0.09926601768210754\n",
      "7000 [-46.17111014  -4.47256654 -12.60035001  37.60849152] 0.0943759153602304\n",
      "8000 [-48.60052773  -4.67198084 -13.30254877  39.527271  ] 0.09032620999697485\n",
      "9000 [-50.84622789  -4.85266678 -13.95407721  41.29282126] 0.08687725011969354\n",
      "10000 [-52.94479138  -5.01809009 -14.56533015  42.9352888 ] 0.08387484986093062\n"
     ]
    }
   ],
   "source": [
    "w = eval_LR_model(X_st, y, iterations=10000, alpha=2.5)"
   ]
  },
  {
   "cell_type": "markdown",
   "metadata": {},
   "source": [
    "# 3. \n",
    "Создайте функцию calc_pred_proba, возвращающую предсказанную вероятность класса 1 (на вход подаются веса, которые уже посчитаны функцией eval_LR_model и X, на выходе - массив y_pred_proba)."
   ]
  },
  {
   "cell_type": "code",
   "execution_count": 9,
   "metadata": {},
   "outputs": [],
   "source": [
    "def calc_pred_proba(w=w, X=X_st):\n",
    "    z = np.dot(w, X) # значения функции линейной регрессии\n",
    "    y_pred_proba = sigmoid(z) # находим предсказанные вероятности\n",
    "    return list(y_pred_proba)"
   ]
  },
  {
   "cell_type": "code",
   "execution_count": 10,
   "metadata": {},
   "outputs": [
    {
     "data": {
      "text/plain": [
       "[0.3187449644411914,\n",
       " 0.0011496536114039984,\n",
       " 0.999999999999867,\n",
       " 0.022679685162571628,\n",
       " 0.9734926625241044,\n",
       " 0.00855325265830707,\n",
       " 0.9999999999999993,\n",
       " 0.00600720758715845,\n",
       " 0.6775104555479238,\n",
       " 0.9999999997571691]"
      ]
     },
     "execution_count": 10,
     "metadata": {},
     "output_type": "execute_result"
    }
   ],
   "source": [
    "calc_pred_proba(w)"
   ]
  },
  {
   "cell_type": "markdown",
   "metadata": {},
   "source": [
    "# 4.\n",
    "Создайте функцию calc_pred, возвращающую предсказанный класс (на вход подаются веса, которые уже посчитаны функцией eval_LR_model и X, на выходе - массив y_pred)."
   ]
  },
  {
   "cell_type": "code",
   "execution_count": 11,
   "metadata": {},
   "outputs": [],
   "source": [
    "def calc_pred(w=w, X=X_st):\n",
    "    z = np.dot(w, X) # значения функции линейной регрессии\n",
    "    y_pred_proba = sigmoid(z) # находим предсказанные вероятности\n",
    "    y_pred = [1 if y >= 0.5 else 0 for y in y_pred_proba] # переводим в 0 и 1\n",
    "    return np.array(y_pred)"
   ]
  },
  {
   "cell_type": "code",
   "execution_count": 12,
   "metadata": {},
   "outputs": [
    {
     "data": {
      "text/plain": [
       "array([0, 0, 1, 0, 1, 0, 1, 0, 1, 1])"
      ]
     },
     "execution_count": 12,
     "metadata": {},
     "output_type": "execute_result"
    }
   ],
   "source": [
    "y_pred = calc_pred(w, X_st)\n",
    "y_pred"
   ]
  },
  {
   "cell_type": "markdown",
   "metadata": {},
   "source": [
    "# 5.\n",
    "Посчитайте accuracy, матрицу ошибок, precision и recall, а также F1-score."
   ]
  },
  {
   "cell_type": "markdown",
   "metadata": {},
   "source": [
    "**доля правильных ответов (accuracy)**"
   ]
  },
  {
   "cell_type": "code",
   "execution_count": 13,
   "metadata": {},
   "outputs": [],
   "source": [
    "def score_accuracy(y_pred=y_pred, y=y):\n",
    "    \"\"\"\n",
    "    Считает долю верных ответов\n",
    "    \"\"\"\n",
    "    acc = np.sum((y_pred == y)+0) / len(y)\n",
    "    return str(round(acc*100, 1)) + '%'"
   ]
  },
  {
   "cell_type": "code",
   "execution_count": 14,
   "metadata": {},
   "outputs": [
    {
     "data": {
      "text/plain": [
       "'100.0%'"
      ]
     },
     "execution_count": 14,
     "metadata": {},
     "output_type": "execute_result"
    }
   ],
   "source": [
    "score_accuracy(y_pred, y)"
   ]
  },
  {
   "cell_type": "markdown",
   "metadata": {},
   "source": [
    "***\n",
    "**матрица ошибок**"
   ]
  },
  {
   "cell_type": "code",
   "execution_count": 15,
   "metadata": {},
   "outputs": [],
   "source": [
    "def score_confusion_matrix(y_pred=y_pred, y=y, n_try=1):\n",
    "    \"\"\"\n",
    "    Построение матрицы ошибок\n",
    "    arguments:\n",
    "        n_try -- номер модели\n",
    "    return tuple:\n",
    "        matrix  -- матрица ошибок\n",
    "        matrix_ -- матрица долей ошибок\n",
    "    \"\"\"\n",
    "    #possibilities = np.unique(y)\n",
    "    matrix = pd.DataFrame(np.zeros([2, 2]), \n",
    "                      index=[f'a{n_try}(x)=+1', f'a{n_try}(x)=-1'], \n",
    "                      columns=['y=+1', 'y=-1'])\n",
    "    matrix.iloc[0,0] = np.sum(y_pred[y == 1] == y[y == 1]) # правильные 1\n",
    "    matrix.iloc[1,1] = np.sum(y_pred[y == 0] == y[y == 0]) # правильные 0\n",
    "    matrix.iloc[0,1] = len(y[y == 1]) - matrix.iloc[0,0]   # неправильные 1\n",
    "    matrix.iloc[1,0] = len(y[y == 0]) - matrix.iloc[1,1]   # неправильные 0\n",
    "    \n",
    "    matrix_ = matrix.copy()\n",
    "    matrix_ = matrix_.div(matrix_.sum(axis=1), axis=0)\n",
    "    return matrix, matrix_"
   ]
  },
  {
   "cell_type": "code",
   "execution_count": 16,
   "metadata": {},
   "outputs": [
    {
     "data": {
      "text/html": [
       "<div>\n",
       "<style scoped>\n",
       "    .dataframe tbody tr th:only-of-type {\n",
       "        vertical-align: middle;\n",
       "    }\n",
       "\n",
       "    .dataframe tbody tr th {\n",
       "        vertical-align: top;\n",
       "    }\n",
       "\n",
       "    .dataframe thead th {\n",
       "        text-align: right;\n",
       "    }\n",
       "</style>\n",
       "<table border=\"1\" class=\"dataframe\">\n",
       "  <thead>\n",
       "    <tr style=\"text-align: right;\">\n",
       "      <th></th>\n",
       "      <th>y=+1</th>\n",
       "      <th>y=-1</th>\n",
       "    </tr>\n",
       "  </thead>\n",
       "  <tbody>\n",
       "    <tr>\n",
       "      <th>a1(x)=+1</th>\n",
       "      <td>5.0</td>\n",
       "      <td>0.0</td>\n",
       "    </tr>\n",
       "    <tr>\n",
       "      <th>a1(x)=-1</th>\n",
       "      <td>0.0</td>\n",
       "      <td>5.0</td>\n",
       "    </tr>\n",
       "  </tbody>\n",
       "</table>\n",
       "</div>"
      ],
      "text/plain": [
       "          y=+1  y=-1\n",
       "a1(x)=+1   5.0   0.0\n",
       "a1(x)=-1   0.0   5.0"
      ]
     },
     "execution_count": 16,
     "metadata": {},
     "output_type": "execute_result"
    }
   ],
   "source": [
    "errors_matrix = score_confusion_matrix(y_pred, y)\n",
    "errors_matrix[0]"
   ]
  },
  {
   "cell_type": "code",
   "execution_count": 17,
   "metadata": {},
   "outputs": [
    {
     "data": {
      "text/html": [
       "<div>\n",
       "<style scoped>\n",
       "    .dataframe tbody tr th:only-of-type {\n",
       "        vertical-align: middle;\n",
       "    }\n",
       "\n",
       "    .dataframe tbody tr th {\n",
       "        vertical-align: top;\n",
       "    }\n",
       "\n",
       "    .dataframe thead th {\n",
       "        text-align: right;\n",
       "    }\n",
       "</style>\n",
       "<table border=\"1\" class=\"dataframe\">\n",
       "  <thead>\n",
       "    <tr style=\"text-align: right;\">\n",
       "      <th></th>\n",
       "      <th>y=+1</th>\n",
       "      <th>y=-1</th>\n",
       "    </tr>\n",
       "  </thead>\n",
       "  <tbody>\n",
       "    <tr>\n",
       "      <th>a1(x)=+1</th>\n",
       "      <td>1.0</td>\n",
       "      <td>0.0</td>\n",
       "    </tr>\n",
       "    <tr>\n",
       "      <th>a1(x)=-1</th>\n",
       "      <td>0.0</td>\n",
       "      <td>1.0</td>\n",
       "    </tr>\n",
       "  </tbody>\n",
       "</table>\n",
       "</div>"
      ],
      "text/plain": [
       "          y=+1  y=-1\n",
       "a1(x)=+1   1.0   0.0\n",
       "a1(x)=-1   0.0   1.0"
      ]
     },
     "execution_count": 17,
     "metadata": {},
     "output_type": "execute_result"
    }
   ],
   "source": [
    "errors_matrix[1]"
   ]
  },
  {
   "cell_type": "markdown",
   "metadata": {},
   "source": [
    "***\n",
    "**точность (precison)**"
   ]
  },
  {
   "cell_type": "code",
   "execution_count": 18,
   "metadata": {},
   "outputs": [],
   "source": [
    "def score_precision(matrix=errors_matrix[0]):\n",
    "    \"\"\"\n",
    "    Точность (precision) представляет из себя долю \n",
    "    истинных срабатываний от общего количества срабатываний. \n",
    "    Она показывает, насколько можно доверять алгоритму классификации.\n",
    "    \"\"\"\n",
    "    TP = matrix.iloc[0, 0] + matrix.iloc[1, 1]\n",
    "    TP_FP = matrix.sum(axis=1).sum(axis=0)\n",
    "    precision = TP / TP_FP\n",
    "    return str(round(precision*100, 1)) + '%'"
   ]
  },
  {
   "cell_type": "code",
   "execution_count": 19,
   "metadata": {},
   "outputs": [
    {
     "data": {
      "text/plain": [
       "'100.0%'"
      ]
     },
     "execution_count": 19,
     "metadata": {},
     "output_type": "execute_result"
    }
   ],
   "source": [
    "precision = score_precision(errors_matrix[0])\n",
    "precision"
   ]
  },
  {
   "cell_type": "markdown",
   "metadata": {},
   "source": [
    "***\n",
    "**полнота (recall)**"
   ]
  },
  {
   "cell_type": "code",
   "execution_count": 20,
   "metadata": {},
   "outputs": [],
   "source": [
    "def score_recall(matrix=errors_matrix[0]):\n",
    "    \"\"\"\n",
    "    Полнота (recall) считается как доля объектов, \n",
    "    истинно относящихся к классу \"+1\", \n",
    "    которые алгоритм отнес к этому классу.\n",
    "    \"\"\"\n",
    "    TP = matrix.iloc[0, 0]\n",
    "    TP_FP = matrix.iloc[:, 0].sum(axis=0)\n",
    "    recall = TP / TP_FP\n",
    "    return str(round(recall*100, 1)) + '%'"
   ]
  },
  {
   "cell_type": "code",
   "execution_count": 21,
   "metadata": {},
   "outputs": [
    {
     "data": {
      "text/plain": [
       "'100.0%'"
      ]
     },
     "execution_count": 21,
     "metadata": {},
     "output_type": "execute_result"
    }
   ],
   "source": [
    "recall = score_recall(errors_matrix[0])\n",
    "recall"
   ]
  },
  {
   "cell_type": "markdown",
   "metadata": {},
   "source": [
    "***\n",
    "**F1-score**"
   ]
  },
  {
   "cell_type": "code",
   "execution_count": 22,
   "metadata": {},
   "outputs": [],
   "source": [
    "def score_f1(precision=precision, recall=recall):\n",
    "    \"\"\"\n",
    "    F-мера представляет собой среднее гармоническое между точностью и полнотой.\n",
    "    В отличие от среднего арифметического, \n",
    "    если хотя бы один из аргументов близок к нулю, \n",
    "    то и среднее гармоническое будет близко к нулю. \n",
    "    По сути, F-мера является сглаженной версией минимума из точности и полноты.\n",
    "    \"\"\"\n",
    "    precision = float(precision.replace('%', ''))/100\n",
    "    recall = float(recall.replace('%', ''))/100\n",
    "    f1 = 2*precision*recall / (precision + recall)\n",
    "    return str(round(f1*100, 1)) + '%'"
   ]
  },
  {
   "cell_type": "code",
   "execution_count": 23,
   "metadata": {},
   "outputs": [
    {
     "data": {
      "text/plain": [
       "'100.0%'"
      ]
     },
     "execution_count": 23,
     "metadata": {},
     "output_type": "execute_result"
    }
   ],
   "source": [
    "f1 = score_f1(precision, recall)\n",
    "f1"
   ]
  },
  {
   "cell_type": "markdown",
   "metadata": {},
   "source": [
    "# 6.\n",
    "Могла ли модель переобучиться? Почему?"
   ]
  },
  {
   "cell_type": "markdown",
   "metadata": {},
   "source": [
    "*> Модель могла переобучиться, так как мало наблюдений.*"
   ]
  },
  {
   "cell_type": "markdown",
   "metadata": {},
   "source": [
    "# 7.\n",
    "Создайте функции eval_LR_model_l1 и eval_LR_model_l2 с применением L1 и L2 регуляризации соответственно."
   ]
  },
  {
   "cell_type": "code",
   "execution_count": 24,
   "metadata": {},
   "outputs": [],
   "source": [
    "def eval_LR_model_L1(X, y, iterations, alpha=1e-4, lambda_=1e-8):  # логистическая регрессия\n",
    "    np.random.seed(42)\n",
    "    w = np.random.randn(X.shape[0])\n",
    "    n = X.shape[1]\n",
    "    for i in range(1, iterations + 1):\n",
    "        z = np.dot(w, X) # значения функции линейной регрессии\n",
    "        y_pred = sigmoid(z) # находим предсказанные вероятности\n",
    "#         err = calc_logloss(y, y_pred) # считаем ошибку\n",
    "        err = np.mean(- y * np.log(np.clip(y_pred, a_min=0.00001, a_max=1)) - \\\n",
    "                  (1.0 - y) * np.log(np.clip(1.0 - y_pred, a_min=0.00001, a_max=1)))\n",
    "        w -= alpha*(2/n*np.dot((y_pred - y), X.T) + lambda_*np.sign(w)) # корректируем веса\n",
    "        if i % (iterations / 10) == 0:\n",
    "            print(i, w, err)\n",
    "    return w\n",
    "\n",
    "def eval_LR_model_L2(X, y, iterations, alpha=1e-4, lambda_=1e-8):  # логистическая регрессия\n",
    "    np.random.seed(42)\n",
    "    w = np.random.randn(X.shape[0])\n",
    "    n = X.shape[1]\n",
    "    for i in range(1, iterations + 1):\n",
    "        z = np.dot(w, X) # значения функции линейной регрессии\n",
    "        y_pred = sigmoid(z) # находим предсказанные вероятности\n",
    "#         err = calc_logloss(y, y_pred) # считаем ошибку\n",
    "        err = np.mean(- y * np.log(np.clip(y_pred, a_min=0.00001, a_max=1)) - \\\n",
    "                  (1.0 - y) * np.log(np.clip(1.0 - y_pred, a_min=0.00001, a_max=1)))\n",
    "        w -= alpha*(2/n * np.dot((y_pred - y), X.T) + 2*lambda_*w)  # корректируем веса\n",
    "        if i % (iterations / 10) == 0:\n",
    "            print(i, w, err)\n",
    "    return w"
   ]
  },
  {
   "cell_type": "code",
   "execution_count": 25,
   "metadata": {},
   "outputs": [
    {
     "name": "stdout",
     "output_type": "stream",
     "text": [
      "400 [-31.21444547  -3.19698968  -8.28725777  25.6565028 ] 0.1309072801315373\n",
      "800 [-35.62942958  -3.57120776  -9.57058972  29.19402683] 0.11741021473253628\n",
      "1200 [-38.57626308  -3.82773078 -10.41652316  31.55861249] 0.10986643557282824\n",
      "1600 [-41.18169424  -4.05203566 -11.16448221  33.64193819] 0.10398845361868414\n",
      "2000 [-43.53117429  -4.25172135 -11.83979816  35.51381771] 0.0992230529517385\n",
      "2400 [-45.68213976  -4.43197087 -12.45930477  37.22124599] 0.09524037335767001\n",
      "2800 [-47.67493894  -4.59646833 -13.03471904  38.79727891] 0.09183128576618511\n",
      "3200 [-49.53892705  -4.74792836 -13.57449311  40.26600895] 0.08885658209030885\n",
      "3600 [-51.29607793  -4.8884127  -14.0849014   41.64551351] 0.08621985950104098\n",
      "4000 [-52.96323055  -5.01952842 -14.57071176  42.94968824] 0.08385214180192334\n"
     ]
    }
   ],
   "source": [
    "w_L1 = eval_LR_model_L1(X_st, y, iterations=4000, alpha=2.5)"
   ]
  },
  {
   "cell_type": "code",
   "execution_count": 26,
   "metadata": {
    "scrolled": true
   },
   "outputs": [
    {
     "name": "stdout",
     "output_type": "stream",
     "text": [
      "400 [-31.3695428   -3.2117303   -8.32751819  25.7927376 ] 0.1303673775871209\n",
      "800 [-36.18358545  -3.61978852  -9.72955965  29.63959209] 0.11591047037976192\n",
      "1200 [-39.06106977  -3.86966799 -10.55566599  31.94682238] 0.10872060137157713\n",
      "1600 [-41.61503551  -4.08906489 -11.28895868  33.98769673] 0.10307388450289356\n",
      "2000 [-43.92490902  -4.28490964 -11.95309611  35.82682802] 0.09846849144756589\n",
      "2400 [-46.04446339  -4.46206494 -12.56381106  37.50822281] 0.09460156637415613\n",
      "2800 [-48.01173245  -4.62401126 -13.1321311   39.06304969] 0.09127926741684207\n",
      "3200 [-49.85454062  -4.773328   -13.66605561  40.51415348] 0.08837157128370408\n",
      "3600 [-51.59381029  -4.91198392 -14.17154986  41.87875517] 0.08578786840244504\n",
      "4000 [-53.24563514  -5.04152004 -14.65316367  43.17014362] 0.0834629872845245\n"
     ]
    }
   ],
   "source": [
    "w_L2 = eval_LR_model_L2(X_st, y, iterations=4000, alpha=2.5)"
   ]
  },
  {
   "cell_type": "markdown",
   "metadata": {},
   "source": [
    "***\n",
    "L1 изменение lambda"
   ]
  },
  {
   "cell_type": "code",
   "execution_count": 27,
   "metadata": {
    "scrolled": true
   },
   "outputs": [
    {
     "name": "stdout",
     "output_type": "stream",
     "text": [
      "400 [-31.19281296  -3.19326142  -8.28076529  25.64187719] 0.1309760053639915\n",
      "800 [-35.65119951  -3.62776092  -9.55723183  29.20576846] 0.11774435883606268\n",
      "1200 [-38.58258056  -3.82821895 -10.41832235  31.56359519] 0.10985136581429715\n",
      "1600 [-41.17545974  -4.05142878 -11.16268177  33.63686485] 0.10400177563397514\n",
      "2000 [-43.51351805  -4.25014151 -11.83471385  35.49965728] 0.09925722659542674\n",
      "2400 [-45.6537977   -4.42950628 -12.45113344  37.19864608] 0.09529078522136265\n",
      "2800 [-47.63640195  -4.59318592 -13.02358456  38.76668705] 0.0918949605845036\n",
      "3200 [-49.49052735  -4.74388088 -13.56047285  40.2277423 ] 0.08893151767823246\n",
      "3600 [-51.23804178  -4.88364302 -14.06804229  41.59980127] 0.0863046599104601\n",
      "4000 [-52.89571186  -5.0140721  -14.55104057  42.89669842] 0.08394580358083656\n",
      "\n",
      "400 [-30.91285425  -3.26561208  -8.19688863  25.33590135] 0.13313473539412723\n",
      "800 [-35.56257451  -3.56309539  -9.55053783  29.13729018] 0.11759433203691332\n",
      "1200 [-37.93052883  -3.76897403 -10.2304629   31.03750515] 0.11143362871230093\n",
      "1600 [-40.0129653   -3.94844494 -10.82830777  32.70395264] 0.10654389383729446\n",
      "2000 [-41.87501407  -4.1073634  -11.36323261  34.18987439] 0.10253589644718294\n",
      "2400 [-43.56194027  -4.24985142 -11.84842499  35.53231812] 0.09916694815429589\n",
      "2800 [-45.10642356  -4.37891122 -12.2933362   36.75804802] 0.09627762920887847\n",
      "3200 [-46.53279625  -4.49679616 -12.70495916  37.88700565] 0.09375870684572116\n",
      "3600 [-47.85964443  -4.6052405  -13.08860588  38.93443453] 0.09153268777966642\n",
      "4000 [-49.10147362  -4.70560758 -13.44840173  39.91224091] 0.08954297087249227\n",
      "\n",
      "400 [-29.78159248  -4.6559486   -6.34726261  29.3033469 ] 2.464173397069234\n",
      "800 [-34.96801364  -3.50959832  -9.37821039  28.65764276] 0.1192527769188112\n",
      "1200 [-36.83565676  -3.67265148  -9.91493454  30.15560424] 0.11420020660526313\n",
      "1600 [-38.45555067  -3.81151428 -10.38048017  31.45428108] 0.11015934419165771\n",
      "2000 [-39.88666924  -3.93437702 -10.79145005  32.59872012] 0.10683039727068804\n",
      "2400 [-41.16504343  -4.04336054 -11.15873206  33.61900282] 0.10402959901184179\n",
      "2800 [-42.31751999  -4.14092038 -11.49008092  34.53706756] 0.10163299186938948\n",
      "3200 [-43.36448013  -4.22892785 -11.79135708  35.36956632] 0.09955349547054164\n",
      "3600 [-44.32175245  -4.3088403  -12.06709503  36.12942797] 0.09772803011257626\n",
      "4000 [-45.20186999  -4.38181393 -12.32087426  36.82688594] 0.09610969966092227\n",
      "\n",
      "400 [-29.60110586  -3.25760705  -7.54347582  24.76443138] 0.1378169713673984\n",
      "800 [-31.10449351  -4.43119289  -6.80500746  27.88469726] 0.17195604932653547\n",
      "1200 [-31.77884037  -3.7106439   -7.83615197  27.05333275] 0.13490575024989965\n",
      "1600 [-32.07221865  -3.7561577   -7.89609784  27.33123931] 0.13433326586938296\n",
      "2000 [-32.25922034  -3.36279299  -8.46985179  26.66114583] 0.12750053817385876\n",
      "2400 [-32.3874545   -3.56974177  -8.62212246  26.41510266] 0.13283402326756727\n",
      "2800 [-32.46454149  -3.61301796  -8.24616945  27.28621915] 0.129083120978039\n",
      "3200 [-31.66335642  -4.92886494  -7.43463403  28.01385474] 0.20255419484021853\n",
      "3600 [-32.30116971  -3.32640467  -8.52919912  26.61669034] 0.12727854838604297\n",
      "4000 [-32.58182691  -3.46213698  -8.47838605  27.06092079] 0.12683061367922482\n",
      "\n",
      "400 [-28.48290763  -3.85988856  -6.10006868  25.35804628] 0.17388650367696354\n",
      "800 [-29.11461515  -5.15219974  -5.20121282  27.66234279] 0.2978884277898194\n",
      "1200 [-29.67245192  -3.30602256  -7.47777626  24.91915244] 0.1383976691848406\n",
      "1600 [-28.9962906   -3.01914453  -7.52934844  24.02877251] 0.13908937937166424\n",
      "2000 [-29.54063171  -3.90734076  -6.49683097  26.11785043] 0.16450370565816333\n",
      "2400 [-29.55384552  -3.37430723  -7.33854267  24.98161852] 0.14039906006429295\n",
      "2800 [-30.0031244   -8.72459228  -7.68578133  23.23842969] 1.5435204307574564\n",
      "3200 [-29.52597925  -3.54665679  -7.08245265  25.31994634] 0.14561853246045148\n",
      "3600 [-29.84518943  -3.50358595  -7.27955284  25.4306434 ] 0.14193962469899907\n",
      "4000 [-29.46383702  -3.14447402  -7.59885684  24.46964222] 0.13749475155457533\n",
      "\n",
      "400 [-0.21519984  0.21698685  0.31792524  9.10733666] 4.255411402483746\n",
      "800 [-0.26592568  0.19404767  0.32543897  9.15533447] 4.25959094728307\n",
      "1200 [0.4706733  0.10286779 0.43972548 8.98767767] 4.208268743545259\n",
      "1600 [0.42210176 0.09664529 0.43124271 9.03195149] 4.202388387506604\n",
      "2000 [0.35746759 0.12697589 0.42307627 9.07102703] 4.183353868590099\n",
      "2400 [0.30568768 0.12840486 0.4115463  9.11188938] 4.175287305486745\n",
      "2800 [0.24255738 0.15188012 0.40295267 9.15040913] 4.159755809579913\n",
      "3200 [0.01644475 0.10575491 0.46720494 9.00968495] 4.3200223355462235\n",
      "3600 [-0.03429594  0.10774917  0.44773972  9.04554099] 4.312791781423987\n",
      "4000 [-0.08822658  0.12013404  0.42755609  9.08127918] 4.3008903216183425\n",
      "\n",
      "400 [ 0.59475744  5.26703834 -1.05307204  6.68330067] 5.626530491646987\n",
      "800 [0.58102438 5.15402399 2.43430016 6.6670535 ] 5.47697096570836\n",
      "1200 [0.6453782  5.07943278 0.87274462 6.72938246] 5.302378738032659\n",
      "1600 [ 0.61003555  5.00882407 -0.65439269  6.6922595 ] 5.69310930766431\n",
      "2000 [ 0.61220128  4.94365224 -2.19734613  6.69283913] 5.532224577693586\n",
      "2400 [0.65025769 4.90442658 1.2323174  6.72948097] 5.358442739954685\n",
      "2800 [ 0.61152863  4.85784925 -0.30563428  6.68944822] 5.746109891434884\n",
      "3200 [ 0.60255712  4.82169274 -1.86013863  6.67923102] 5.583282594294098\n",
      "3600 [0.65780312 4.80294443 1.55259213 6.73333238] 5.402197344146216\n",
      "4000 [ 6.41805880e-01  4.77752651e+00 -4.86236725e-03  6.71625282e+00] 5.756731310752036\n",
      "\n",
      "400 [4.52204859 6.35404089 6.06848029 6.87102361] 5.756465528002903\n",
      "800 [ 4.63304428  6.92000687 -0.91330244  6.9820678 ] 5.756462925215695\n",
      "1200 [4.40544262 7.12225362 7.45957262 6.75421782] 5.756464073002209\n",
      "1600 [4.73757018 7.27588361 0.66347484 7.08623862] 5.574289189846612\n",
      "2000 [ 4.31226945  7.30510439 -5.78282707  6.66046628] 5.7564633213175345\n",
      "2400 [4.39673834 7.25227659 2.64479034 6.74479016] 5.756470497467072\n",
      "2800 [ 4.17814333  7.12073299 -3.76655615  6.52597086] 5.756462949638603\n",
      "3200 [4.21273703 7.08600687 4.66823713 6.56045247] 5.756465248538552\n",
      "3600 [ 4.58149974  7.49173758 -2.31005997  6.92884838] 5.756463019956456\n",
      "4000 [4.36269027 7.26657182 6.3381853  6.70976666] 5.756464579713869\n",
      "\n",
      "400 [ 5.89639579 10.58278913 12.76684669  9.80327487] 5.756462737573969\n",
      "800 [ 6.5243459  11.65967233  0.53632459 10.37614544] 5.75646273265354\n",
      "1200 [  6.04586493  11.34382111 -10.34087749   9.88792058] 5.756462735733839\n",
      "1600 [ 5.80364892 10.77475003  3.6915159   9.63266131] 5.756462844890968\n",
      "2000 [ 6.77202935 11.88067127 -8.5903933  10.58704139] 5.756462739668409\n",
      "2400 [3.9832148  9.90034918 6.63722152 7.55687495] 5.756462733215477\n",
      "2800 [ 5.04777638 10.93801226 -5.6285211   8.61830334] 5.756462732546492\n",
      "3200 [ 4.53937804 10.41916225  8.53615032  8.08485092] 5.756462733570494\n",
      "3600 [ 5.44567265 11.6168149  -4.02854706  8.89420299] 5.756462732552703\n",
      "4000 [ 5.02840837 10.96372709 10.17007934  8.43638215] 5.756462733878606\n",
      "\n",
      "400 [-17.36981337 -13.82544274  15.13403355 -18.99866973] 5.756462732485114\n",
      "800 [-23.71948766 -19.91933392 -16.55404264 -25.99551784] 4.770332511757481\n",
      "1200 [-19.63278786 -16.12470682  -6.72513822 -21.88499206] 5.404080276238883\n",
      "1600 [-18.04950532 -13.72606483   5.61615463 -20.35530371] 5.756462732485114\n",
      "2000 [-17.36360748 -13.82153813  19.10021034 -19.4961219 ] 5.756462732485114\n",
      "2400 [-22.0950986  -17.69040647 -11.73500656 -23.19775978] 5.207365702912984\n",
      "2800 [-18.29423316 -14.45982049  -2.71106042 -19.43176739] 5.638392417497838\n",
      "3200 [-18.74309717 -12.80083711  12.67622232 -19.1152392 ] 5.756462732485114\n",
      "3600 [-17.04868296 -15.2710168   23.00548978 -19.05127806] 5.756462732485114\n",
      "4000 [-20.78425485 -17.00266028  -9.42049023 -22.13750693] 5.360957011321422\n",
      "\n"
     ]
    }
   ],
   "source": [
    "lambda_w_l1 = {}\n",
    "lambdas = [0.00001, 0.0005, 0.001, 0.005, 0.01, 0.2, 1, 3, 5, 10]\n",
    "for lam in lambdas:\n",
    "    lambda_w_l1[lam]= eval_LR_model_L1(X_st, y, iterations=4000, alpha=2.5, lambda_=lam)\n",
    "    print()"
   ]
  },
  {
   "cell_type": "code",
   "execution_count": 28,
   "metadata": {},
   "outputs": [
    {
     "data": {
      "image/png": "[encoded data removed]",
      "text/plain": [
       "<Figure size 432x288 with 1 Axes>"
      ]
     },
     "metadata": {},
     "output_type": "display_data"
    }
   ],
   "source": [
    "x_plot = list(lambda_w_l1.keys())\n",
    "y_plot = list(lambda_w_l1.values())\n",
    "plt.plot(x_plot, y_plot)\n",
    "plt.xscale('log')\n",
    "plt.xlabel('lambda')\n",
    "plt.ylabel('weights')\n",
    "plt.show()"
   ]
  },
  {
   "cell_type": "markdown",
   "metadata": {},
   "source": [
    "***\n",
    "L1 изменение lambda"
   ]
  },
  {
   "cell_type": "code",
   "execution_count": 29,
   "metadata": {},
   "outputs": [
    {
     "name": "stdout",
     "output_type": "stream",
     "text": [
      "400 [-31.11337635  -3.23549005  -8.20042515  25.67368865] 0.13122776859640553\n",
      "800 [-35.21845542  -3.62043353  -9.42294163  28.86192491] 0.11932428442097079\n",
      "1200 [-37.53904937  -3.73717547 -10.11946216  30.72618638] 0.11240081102219453\n",
      "1600 [-39.52615202  -3.90914085 -10.68988724  32.31770528] 0.10764122484248868\n",
      "2000 [-41.26106213  -4.0580154  -11.18813209  33.7037261 ] 0.10381659219467994\n",
      "2400 [-42.79503657  -4.18849821 -11.62906781  34.92623104] 0.10066367244883978\n",
      "2800 [-44.16501505  -4.30400321 -12.02333292  36.01548522] 0.09801157342688663\n",
      "3200 [-45.39850903  -4.4070887  -12.37880407  36.9940317 ] 0.09574427466347588\n",
      "3600 [-46.51657268  -4.49972143 -12.70148077  37.87912093] 0.09378005769218362\n",
      "4000 [-47.53569041  -4.58344608 -12.9960429   38.68425542] 0.09205956792950656\n",
      "\n",
      "400 [-24.74283582  -3.79880882  -4.55700627  22.85014678] 0.2238371131192952\n",
      "800 [-24.92524502  -6.9725227   -6.80676046  18.79767308] 0.40081745049976697\n",
      "1200 [-24.81171578  -4.06851474  -4.11275679  23.47522379] 0.25677078467078\n",
      "1600 [-22.98386649  -3.35626951  -4.27217649  24.96568222] 3.363547601755277\n",
      "2000 [-24.72683922  -3.06945187  -5.81866363  21.27038661] 0.16519545263111263\n",
      "2400 [-24.91002111  -4.10243679  -4.05280558  23.62346541] 0.26121687147210454\n",
      "2800 [-24.48621035  -2.85202694  -6.01234403  20.69932501] 0.16057876916108482\n",
      "3200 [-25.07543117  -3.69764255  -4.91015059  22.82743026] 0.20618647684915709\n",
      "3600 [-24.40574728  -2.81501031  -6.16565791  20.28495494] 0.15995150145720868\n",
      "4000 [-24.83789     -3.24372604  -5.60482647  21.69354786] 0.17240044388003067\n",
      "\n",
      "400 [-19.92693793  -4.46736946  -1.38425965  21.20632997] 0.44761121843493584\n",
      "800 [-20.62852342  -8.91074745  -1.9836449   18.71480264] 2.5921436895675507\n",
      "1200 [-20.18848022  -3.13474233  -3.67949151  18.51930275] 0.22977020409673257\n",
      "1600 [-20.86652357 -10.09751     -0.70952737  20.47064708] 2.175563137630412\n",
      "2000 [-20.14598706  -4.41582289  -1.26480831  21.28458436] 0.4433805502719643\n",
      "2400 [-17.88856036  -1.33994713  -4.00099656  20.61411121] 3.2615595605345162\n",
      "2800 [-20.03463733  -2.91692903  -3.98386585  17.98851538] 0.2116288418754105\n",
      "3200 [-18.81522159  -3.50073925  -0.52467108  23.25641024] 3.1552158665235774\n",
      "3600 [-20.34321606  -3.75899437  -2.57039005  19.9535937 ] 0.3145867983771372\n",
      "4000 [-20.33660065  -7.91760707  -3.5766304   17.3345657 ] 2.940930281147795\n",
      "\n",
      "400 [-6.92777753 -2.9949377   6.20848682 16.96258318] 2.699311243861644\n",
      "800 [-6.92789242 -2.99495662  6.20843559 16.96266238] 2.6993125063719607\n",
      "1200 [-6.92789242 -2.99495662  6.20843559 16.96266238] 2.6993125063856263\n",
      "1600 [-6.92789242 -2.99495662  6.20843559 16.96266238] 2.699312506385628\n",
      "2000 [-6.92789242 -2.99495662  6.20843559 16.96266238] 2.699312506385628\n",
      "2400 [-6.92789242 -2.99495662  6.20843559 16.96266238] 2.699312506385628\n",
      "2800 [-6.92789242 -2.99495662  6.20843559 16.96266238] 2.699312506385628\n",
      "3200 [-6.92789242 -2.99495662  6.20843559 16.96266238] 2.699312506385628\n",
      "3600 [-6.92789242 -2.99495662  6.20843559 16.96266238] 2.699312506385628\n",
      "4000 [-6.92789242 -2.99495662  6.20843559 16.96266238] 2.699312506385628\n",
      "\n",
      "400 [-2.8024145   0.43559896  5.86424416 11.68601523] 2.5620543189835105\n",
      "800 [-2.8024145   0.43559896  5.86424416 11.68601523] 2.5620543188714455\n",
      "1200 [-2.8024145   0.43559896  5.86424416 11.68601523] 2.5620543188714455\n",
      "1600 [-2.8024145   0.43559896  5.86424416 11.68601523] 2.5620543188714455\n",
      "2000 [-2.8024145   0.43559896  5.86424416 11.68601523] 2.5620543188714455\n",
      "2400 [-2.8024145   0.43559896  5.86424416 11.68601523] 2.5620543188714455\n",
      "2800 [-2.8024145   0.43559896  5.86424416 11.68601523] 2.5620543188714455\n",
      "3200 [-2.8024145   0.43559896  5.86424416 11.68601523] 2.5620543188714455\n",
      "3600 [-2.8024145   0.43559896  5.86424416 11.68601523] 2.5620543188714455\n",
      "4000 [-2.8024145   0.43559896  5.86424416 11.68601523] 2.5620543188714455\n",
      "\n",
      "400 [2.49887708 6.49999413 0.28397351 4.99887708] 5.756687291849735\n",
      "800 [2.49887708 6.49999413 0.28397351 4.99887708] 5.756687291849735\n",
      "1200 [2.49887708 6.49999413 0.28397351 4.99887708] 5.756687291849735\n",
      "1600 [2.49887708 6.49999413 0.28397351 4.99887708] 5.756687291849735\n",
      "2000 [2.49887708 6.49999413 0.28397351 4.99887708] 5.756687291849735\n",
      "2400 [2.49887708 6.49999413 0.28397351 4.99887708] 5.756687291849735\n",
      "2800 [2.49887708 6.49999413 0.28397351 4.99887708] 5.756687291849735\n",
      "3200 [2.49887708 6.49999413 0.28397351 4.99887708] 5.756687291849735\n",
      "3600 [2.49887708 6.49999413 0.28397351 4.99887708] 5.756687291849735\n",
      "4000 [2.49887708 6.49999413 0.28397351 4.99887708] 5.756687291849735\n",
      "\n",
      "400 [7.94952349e+240 1.25491245e+241 4.57499766e+240 1.75721236e+241] 5.756462732485114\n",
      "800 [nan nan nan nan] nan\n",
      "1200 [nan nan nan nan] nan\n",
      "1600 [nan nan nan nan] nan\n",
      "2000 [nan nan nan nan] nan\n",
      "2400 [nan nan nan nan] nan\n",
      "2800 [nan nan nan nan] nan\n"
     ]
    },
    {
     "name": "stderr",
     "output_type": "stream",
     "text": [
      "<ipython-input-5-4e4ea7c03c19>:6: RuntimeWarning: overflow encountered in exp\n",
      "  res = 1 / (1 + np.exp(-z))\n",
      "<ipython-input-24-8ee5392e6225>:26: RuntimeWarning: overflow encountered in multiply\n",
      "  w -= alpha*(2/n * np.dot((y_pred - y), X.T) + 2*lambda_*w)  # корректируем веса\n"
     ]
    },
    {
     "name": "stdout",
     "output_type": "stream",
     "text": [
      "3200 [nan nan nan nan] nan\n",
      "3600 [nan nan nan nan] nan\n",
      "4000 [nan nan nan nan] nan\n",
      "\n",
      "400 [nan nan nan nan] nan\n",
      "800 [nan nan nan nan] nan\n",
      "1200 [nan nan nan nan] nan\n",
      "1600 [nan nan nan nan] nan\n",
      "2000 [nan nan nan nan] nan\n",
      "2400 [nan nan nan nan] nan\n",
      "2800 [nan nan nan nan] nan\n",
      "3200 [nan nan nan nan] nan\n"
     ]
    },
    {
     "name": "stderr",
     "output_type": "stream",
     "text": [
      "<ipython-input-24-8ee5392e6225>:26: RuntimeWarning: invalid value encountered in subtract\n",
      "  w -= alpha*(2/n * np.dot((y_pred - y), X.T) + 2*lambda_*w)  # корректируем веса\n"
     ]
    },
    {
     "name": "stdout",
     "output_type": "stream",
     "text": [
      "3600 [nan nan nan nan] nan\n",
      "4000 [nan nan nan nan] nan\n",
      "\n",
      "400 [nan nan nan nan] nan\n",
      "800 [nan nan nan nan] nan\n",
      "1200 [nan nan nan nan] nan\n",
      "1600 [nan nan nan nan] nan\n",
      "2000 [nan nan nan nan] nan\n",
      "2400 [nan nan nan nan] nan\n",
      "2800 [nan nan nan nan] nan\n",
      "3200 [nan nan nan nan] nan\n",
      "3600 [nan nan nan nan] nan\n",
      "4000 [nan nan nan nan] nan\n",
      "\n",
      "400 [nan nan nan nan] nan\n",
      "800 [nan nan nan nan] nan\n",
      "1200 [nan nan nan nan] nan\n",
      "1600 [nan nan nan nan] nan\n",
      "2000 [nan nan nan nan] nan\n",
      "2400 [nan nan nan nan] nan\n",
      "2800 [nan nan nan nan] nan\n",
      "3200 [nan nan nan nan] nan\n",
      "3600 [nan nan nan nan] nan\n",
      "4000 [nan nan nan nan] nan\n",
      "\n"
     ]
    }
   ],
   "source": [
    "lambda_w_l2 = {}\n",
    "lambdas = [0.00001, 0.0005, 0.001, 0.005, 0.01, 0.2, 1, 3, 5, 10]\n",
    "for lam in lambdas:\n",
    "    lambda_w_l2[lam]= eval_LR_model_L2(X_st, y, iterations=4000, alpha=2.5, lambda_=lam)\n",
    "    print()"
   ]
  },
  {
   "cell_type": "code",
   "execution_count": 30,
   "metadata": {},
   "outputs": [
    {
     "data": {
      "image/png": "[encoded data removed]",
      "text/plain": [
       "<Figure size 432x288 with 1 Axes>"
      ]
     },
     "metadata": {},
     "output_type": "display_data"
    }
   ],
   "source": [
    "x_plot = list(lambda_w_l1.keys())\n",
    "y_plot = list(lambda_w_l1.values())\n",
    "plt.plot(x_plot, y_plot)\n",
    "plt.xscale('log')\n",
    "plt.xlabel('lambda')\n",
    "plt.ylabel('weights')\n",
    "plt.show()"
   ]
  }
 ],
 "metadata": {
  "kernelspec": {
   "display_name": "Python 3",
   "language": "python",
   "name": "python3"
  },
  "language_info": {
   "codemirror_mode": {
    "name": "ipython",
    "version": 3
   },
   "file_extension": ".py",
   "mimetype": "text/x-python",
   "name": "python",
   "nbconvert_exporter": "python",
   "pygments_lexer": "ipython3",
   "version": "3.8.5"
  }
 },
 "nbformat": 4,
 "nbformat_minor": 4
}
